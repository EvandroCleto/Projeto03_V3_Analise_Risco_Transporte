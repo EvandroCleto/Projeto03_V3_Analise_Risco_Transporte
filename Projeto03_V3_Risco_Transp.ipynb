{
 "cells": [
  {
   "cell_type": "markdown",
   "id": "9136844c",
   "metadata": {},
   "source": [
    "# <font color='blue'>Data Science Academy - Formação Cientista de Dados</font>\n",
    "# <font color='blue'>Autor: Evandro Eulálio Cleto</font>\n",
    "\n",
    "## <font color='blue'>Data Início: 23/05/2023</font>\n",
    "## <font color='blue'>Data Finalização: /2023</font>\n",
    "\n",
    "## <font color='blue'>Big Data Real-Time Analytics com Python e Spark</font>\n",
    "## <font color='blue'>Projeto com Feedbck 3</font>\n",
    "\n",
    "### <font color='blue'>Análise de Risco no Transporte Público</font>\n"
   ]
  },
  {
   "cell_type": "markdown",
   "id": "c3eb7816",
   "metadata": {},
   "source": [
    "![title](imagens/Apresent_Proj.png)"
   ]
  },
  {
   "cell_type": "markdown",
   "id": "a973aad0",
   "metadata": {},
   "source": [
    "## <font color='blue'>Objetivo deste projeto:</font>\n",
    "### <font color='blue'>Responder 10 perguntas de negócios através de análise de dados usando os pacotes parkSQL, PandaSQL, SQLAlchemy, MySql e Docker</font>"
   ]
  },
  {
   "cell_type": "code",
   "execution_count": null,
   "id": "719b07e5",
   "metadata": {},
   "outputs": [],
   "source": [
    "# Esse pacote é usado para gravar as versões de outros pacotes usados neste jupyter notebook.\n",
    "#!pip install -q -U watermark"
   ]
  },
  {
   "cell_type": "code",
   "execution_count": 1,
   "id": "a3937a39",
   "metadata": {},
   "outputs": [],
   "source": [
    "# Importa o findspark e inicializa\n",
    "# findspark -> Fornece findpark.init() para tornar o pyspark importável como uma biblioteca regular.\n",
    "#!pip install findspark\n",
    "import findspark\n",
    "findspark.init()"
   ]
  },
  {
   "cell_type": "code",
   "execution_count": null,
   "id": "57b3fddf",
   "metadata": {},
   "outputs": [],
   "source": [
    "#https://pypi.org/project/mysql-connector-python/\n",
    "# Instala conector com o MySQL\n",
    "#!pip install mysql-connector-python"
   ]
  },
  {
   "cell_type": "code",
   "execution_count": null,
   "id": "0080151c",
   "metadata": {},
   "outputs": [],
   "source": [
    "# https://www.sqlalchemy.org/\n",
    "#sqlalchemy -> facilita a conexão com SGBD\n",
    "#!pip install -q sqlalchemy"
   ]
  },
  {
   "cell_type": "code",
   "execution_count": null,
   "id": "03c33686",
   "metadata": {},
   "outputs": [],
   "source": [
    "# https://pypi.org/project/pandasql/\n",
    "#pandasql -> Extrai dados do PostgreSQL\n",
    "#!pip install -q pandasql"
   ]
  },
  {
   "cell_type": "code",
   "execution_count": 2,
   "id": "34f6dad0",
   "metadata": {},
   "outputs": [],
   "source": [
    "# Imports\n",
    "import mysql.connector\n",
    "import pandasql\n",
    "import sqlalchemy\n",
    "import pandas as pd\n",
    "from mysql.connector import errorcode\n",
    "from pandasql import sqldf\n",
    "#from psycopg2.extensions import ISOLATION_LEVEL_AUTOCOMMIT\n",
    "from sqlalchemy import create_engine\n",
    "from pyspark.sql import SparkSession\n",
    "from pyspark.sql.functions import udf"
   ]
  },
  {
   "cell_type": "code",
   "execution_count": 3,
   "id": "91fcca12",
   "metadata": {},
   "outputs": [
    {
     "name": "stdout",
     "output_type": "stream",
     "text": [
      "Author: Data Science Academy\n",
      "\n",
      "pandasql  : 0.7.3\n",
      "pandas    : 1.4.4\n",
      "sqlalchemy: 1.4.39\n",
      "findspark : 2.0.1\n",
      "\n"
     ]
    }
   ],
   "source": [
    "# Versões dos pacotes usados neste jupyter notebook\n",
    "%reload_ext watermark\n",
    "%watermark -a \"Data Science Academy\" --iversions"
   ]
  },
  {
   "cell_type": "code",
   "execution_count": 4,
   "id": "170c9618",
   "metadata": {},
   "outputs": [
    {
     "name": "stdout",
     "output_type": "stream",
     "text": [
      "Database connection made!\n"
     ]
    }
   ],
   "source": [
    "import mysql.connector\n",
    "from mysql.connector import errorcode\n",
    "try:\n",
    "\tdb_connection = mysql.connector.connect(host='localhost', user='root', password='402676Ev', database='evandro')\n",
    "\tprint(\"Database connection made!\")\n",
    "except mysql.connector.Error as error:\n",
    "\tif error.errno == errorcode.ER_BAD_DB_ERROR:\n",
    "\t\tprint(\"Database doesn't exist\")\n",
    "\telif error.errno == errorcode.ER_ACCESS_DENIED_ERROR:\n",
    "\t\tprint(\"User name or password is wrong\")\n",
    "\telse:\n",
    "\t\tprint(error)\n",
    "else:\n",
    "\tdb_connection.close()"
   ]
  },
  {
   "cell_type": "code",
   "execution_count": null,
   "id": "bddf7be6",
   "metadata": {},
   "outputs": [],
   "source": [
    "cnx = mysql.connector.connect(user='root', password='402676Ev',\n",
    "                              host='localhost',\n",
    "                              database='evandro')"
   ]
  },
  {
   "cell_type": "code",
   "execution_count": null,
   "id": "2050547a",
   "metadata": {},
   "outputs": [],
   "source": []
  },
  {
   "cell_type": "code",
   "execution_count": null,
   "id": "26a910b5",
   "metadata": {},
   "outputs": [],
   "source": []
  },
  {
   "cell_type": "code",
   "execution_count": null,
   "id": "fe3611b5",
   "metadata": {},
   "outputs": [],
   "source": []
  },
  {
   "cell_type": "code",
   "execution_count": null,
   "id": "a442ec97",
   "metadata": {},
   "outputs": [],
   "source": []
  },
  {
   "cell_type": "code",
   "execution_count": null,
   "id": "8b862aee",
   "metadata": {},
   "outputs": [],
   "source": []
  },
  {
   "cell_type": "code",
   "execution_count": null,
   "id": "7ba75cfd",
   "metadata": {},
   "outputs": [],
   "source": [
    "# Versões dos pacotes usados neste jupyter notebook\n",
    "%reload_ext watermark\n",
    "%watermark -a \"Data Science Academy\" --iversions"
   ]
  },
  {
   "cell_type": "code",
   "execution_count": null,
   "id": "42457fd2",
   "metadata": {},
   "outputs": [],
   "source": []
  },
  {
   "cell_type": "code",
   "execution_count": null,
   "id": "d839dfba",
   "metadata": {},
   "outputs": [],
   "source": []
  },
  {
   "cell_type": "code",
   "execution_count": null,
   "id": "b5d67c96",
   "metadata": {},
   "outputs": [],
   "source": []
  },
  {
   "cell_type": "code",
   "execution_count": null,
   "id": "415e1173",
   "metadata": {},
   "outputs": [],
   "source": []
  },
  {
   "cell_type": "markdown",
   "id": "15a4ee59",
   "metadata": {},
   "source": [
    "### Pergunta 1: Qual a quantidade de incidentes por gênero?"
   ]
  },
  {
   "cell_type": "code",
   "execution_count": null,
   "id": "635cb41c",
   "metadata": {},
   "outputs": [],
   "source": []
  },
  {
   "cell_type": "markdown",
   "id": "ed36a964",
   "metadata": {},
   "source": [
    "### Pergunta 2:  Qual faixa etária esteve mais envolvida nos incidentes?"
   ]
  },
  {
   "cell_type": "code",
   "execution_count": null,
   "id": "b229cbd0",
   "metadata": {},
   "outputs": [],
   "source": []
  },
  {
   "cell_type": "markdown",
   "id": "90ca1adc",
   "metadata": {},
   "source": [
    "### Pergunta 3: Qual o percentual de incidentes por tipo de evento (Incident Event Type)?"
   ]
  },
  {
   "cell_type": "code",
   "execution_count": null,
   "id": "87efdbd5",
   "metadata": {},
   "outputs": [],
   "source": []
  },
  {
   "cell_type": "markdown",
   "id": "2ce283ce",
   "metadata": {},
   "source": [
    "### Pergunta 4: Como foi a evolução de incidentes por mês ao longo do tempo?\n"
   ]
  },
  {
   "cell_type": "code",
   "execution_count": null,
   "id": "99b667b1",
   "metadata": {},
   "outputs": [],
   "source": []
  },
  {
   "cell_type": "markdown",
   "id": "a89055b7",
   "metadata": {},
   "source": [
    "### Pergunta 5: Quando o incidente foi “Collision Incident” em qual mês houve o maior número de incidentes envolvendo pessoas do sexo feminino?\n"
   ]
  },
  {
   "cell_type": "code",
   "execution_count": null,
   "id": "f702f4da",
   "metadata": {},
   "outputs": [],
   "source": []
  },
  {
   "cell_type": "markdown",
   "id": "879ab674",
   "metadata": {},
   "source": [
    "### Pergunta 6: Qual foi a média de incidentes por mês envolvendo crianças (Child)?\n"
   ]
  },
  {
   "cell_type": "code",
   "execution_count": null,
   "id": "41c6af0c",
   "metadata": {},
   "outputs": [],
   "source": []
  },
  {
   "cell_type": "markdown",
   "id": "9f6ffd7c",
   "metadata": {},
   "source": [
    "### Pergunta 7: Considerando a descrição de incidente como “Injuries treated on scene” (coluna Injury Result Description), qual o total de incidentes de pessoas do sexo masculino e sexo feminino?\n"
   ]
  },
  {
   "cell_type": "code",
   "execution_count": null,
   "id": "8dc1ef8c",
   "metadata": {},
   "outputs": [],
   "source": []
  },
  {
   "cell_type": "markdown",
   "id": "bb19663f",
   "metadata": {},
   "source": [
    "### Pergunta 8: No ano de 2017 em qual mês houve mais incidentes com idosos (Elderly)?\n"
   ]
  },
  {
   "cell_type": "code",
   "execution_count": null,
   "id": "8e141dfc",
   "metadata": {},
   "outputs": [],
   "source": []
  },
  {
   "cell_type": "markdown",
   "id": "c7453d56",
   "metadata": {},
   "source": [
    "### Pergunta 9: Considerando o Operador qual a distribuição de incidentes ao longo do tempo?\n"
   ]
  },
  {
   "cell_type": "code",
   "execution_count": null,
   "id": "9c2250f9",
   "metadata": {},
   "outputs": [],
   "source": []
  },
  {
   "cell_type": "markdown",
   "id": "29cfce18",
   "metadata": {},
   "source": [
    "### Pergunta 10: Qual o tipo de incidente mais comum com ciclistas?"
   ]
  },
  {
   "cell_type": "code",
   "execution_count": null,
   "id": "a1d3198c",
   "metadata": {},
   "outputs": [],
   "source": []
  },
  {
   "cell_type": "code",
   "execution_count": null,
   "id": "51084dde",
   "metadata": {},
   "outputs": [],
   "source": []
  },
  {
   "cell_type": "code",
   "execution_count": null,
   "id": "a3b72571",
   "metadata": {},
   "outputs": [],
   "source": []
  }
 ],
 "metadata": {
  "kernelspec": {
   "display_name": "Python 3 (ipykernel)",
   "language": "python",
   "name": "python3"
  },
  "language_info": {
   "codemirror_mode": {
    "name": "ipython",
    "version": 3
   },
   "file_extension": ".py",
   "mimetype": "text/x-python",
   "name": "python",
   "nbconvert_exporter": "python",
   "pygments_lexer": "ipython3",
   "version": "3.9.13"
  }
 },
 "nbformat": 4,
 "nbformat_minor": 5
}
